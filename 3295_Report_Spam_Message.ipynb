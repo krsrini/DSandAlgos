{
  "nbformat": 4,
  "nbformat_minor": 0,
  "metadata": {
    "colab": {
      "provenance": [],
      "authorship_tag": "ABX9TyMN9GonvZaZRC9kuzKB1V0e",
      "include_colab_link": true
    },
    "kernelspec": {
      "name": "python3",
      "display_name": "Python 3"
    },
    "language_info": {
      "name": "python"
    }
  },
  "cells": [
    {
      "cell_type": "markdown",
      "metadata": {
        "id": "view-in-github",
        "colab_type": "text"
      },
      "source": [
        "<a href=\"https://colab.research.google.com/github/krsrini/DSandAlgos/blob/main/3295_Report_Spam_Message.ipynb\" target=\"_parent\"><img src=\"https://colab.research.google.com/assets/colab-badge.svg\" alt=\"Open In Colab\"/></a>"
      ]
    },
    {
      "cell_type": "code",
      "source": [
        "'''\n",
        "You are given an array of strings message and an array of strings bannedWords.\n",
        "\n",
        "An array of words is considered spam if there are at least two words in it that exactly match any word in bannedWords.\n",
        "\n",
        "Return true if the array message is spam, and false otherwise.\n",
        "\n",
        "\n",
        "\n",
        "Example 1:\n",
        "\n",
        "Input: message = [\"hello\",\"world\",\"leetcode\"], bannedWords = [\"world\",\"hello\"]\n",
        "\n",
        "Output: true\n",
        "\n",
        "Explanation:\n",
        "\n",
        "The words \"hello\" and \"world\" from the message array both appear in the bannedWords array.\n",
        "\n",
        "Example 2:\n",
        "\n",
        "Input: message = [\"hello\",\"programming\",\"fun\"], bannedWords = [\"world\",\"programming\",\"leetcode\"]\n",
        "\n",
        "Output: false\n",
        "\n",
        "Explanation:\n",
        "\n",
        "Only one word from the message array (\"programming\") appears in the bannedWords array.\n",
        "\n",
        "\n",
        "\n",
        "Constraints:\n",
        "\n",
        "1 <= message.length, bannedWords.length <= 105\n",
        "1 <= message[i].length, bannedWords[i].length <= 15\n",
        "message[i] and bannedWords[i] consist only of lowercase English letters.\n",
        "'''"
      ],
      "metadata": {
        "id": "rxXgW49AMz1k"
      },
      "execution_count": null,
      "outputs": []
    },
    {
      "cell_type": "code",
      "source": [
        "'''\n",
        "message = [\"hello\",\"world\",\"leetcode\"],\n",
        "bannedWords = [\"world\",\"hello\"]\n",
        "\n",
        "message = [\"hello\",\"programming\",\"fun\"]\n",
        "bannedWords = [\"world\",\"programming\",\"leetcode\"]\n",
        "'''\n",
        "message = [\"l\",\"i\",\"l\",\"i\",\"l\"]\n",
        "bannedWords = [\"d\",\"a\",\"i\",\"v\",\"a\"]\n",
        "def reportSpam(message, bannedWords):\n",
        "  set_of_bannedWords = set(bannedWords)\n",
        "  count = 0\n",
        "  for words in message:\n",
        "      if words in set_of_bannedWords:\n",
        "          count += 1\n",
        "          if count >= 2:\n",
        "            return True\n",
        "  return False\n",
        "\n",
        "reportSpam(message, bannedWords)\n"
      ],
      "metadata": {
        "colab": {
          "base_uri": "https://localhost:8080/"
        },
        "id": "Mlj22RUKOV7h",
        "outputId": "e9cecf80-e13b-42ec-8f6b-ab19362a2d17"
      },
      "execution_count": 19,
      "outputs": [
        {
          "output_type": "execute_result",
          "data": {
            "text/plain": [
              "True"
            ]
          },
          "metadata": {},
          "execution_count": 19
        }
      ]
    }
  ]
}