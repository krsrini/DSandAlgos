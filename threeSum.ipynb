{
  "nbformat": 4,
  "nbformat_minor": 0,
  "metadata": {
    "colab": {
      "provenance": [],
      "authorship_tag": "ABX9TyM0OnHCQSv/eQKlWZyVXWbP",
      "include_colab_link": true
    },
    "kernelspec": {
      "name": "python3",
      "display_name": "Python 3"
    },
    "language_info": {
      "name": "python"
    }
  },
  "cells": [
    {
      "cell_type": "markdown",
      "metadata": {
        "id": "view-in-github",
        "colab_type": "text"
      },
      "source": [
        "<a href=\"https://colab.research.google.com/github/krsrini/DSandAlgos/blob/main/threeSum.ipynb\" target=\"_parent\"><img src=\"https://colab.research.google.com/assets/colab-badge.svg\" alt=\"Open In Colab\"/></a>"
      ]
    },
    {
      "cell_type": "code",
      "execution_count": null,
      "metadata": {
        "id": "3iMfMxoG53di"
      },
      "outputs": [],
      "source": [
        "'''\n",
        "Given an integer array nums, return all the triplets [nums[i], nums[j], nums[k]] such that i != j, i != k, and j != k, and nums[i] + nums[j] + nums[k] == 0.\n",
        "\n",
        "Notice that the solution set must not contain duplicate triplets.\n",
        "\n",
        "\n",
        "\n",
        "Example 1:\n",
        "\n",
        "Input: nums = [-1,0,1,2,-1,-4]\n",
        "Output: [[-1,-1,2],[-1,0,1]]\n",
        "Explanation:\n",
        "nums[0] + nums[1] + nums[2] = (-1) + 0 + 1 = 0.\n",
        "nums[1] + nums[2] + nums[4] = 0 + 1 + (-1) = 0.\n",
        "nums[0] + nums[3] + nums[4] = (-1) + 2 + (-1) = 0.\n",
        "The distinct triplets are [-1,0,1] and [-1,-1,2].\n",
        "Notice that the order of the output and the order of the triplets does not matter.\n",
        "Example 2:\n",
        "\n",
        "Input: nums = [0,1,1]\n",
        "Output: []\n",
        "Explanation: The only possible triplet does not sum up to 0.\n",
        "Example 3:\n",
        "\n",
        "Input: nums = [0,0,0]\n",
        "Output: [[0,0,0]]\n",
        "Explanation: The only possible triplet sums up to 0.\n",
        "\n",
        "\n",
        "Constraints:\n",
        "\n",
        "3 <= nums.length <= 3000\n",
        "-105 <= nums[i] <= 105\n",
        "'''"
      ]
    },
    {
      "cell_type": "code",
      "source": [
        "nums = [-1,0,1,2,-1,-4]\n",
        "#expected Output: [[-1,-1,2],[-1,0,1]]\n",
        "\n",
        "nums = [-1,0,1,2,-1,-4]\n",
        "#expected Output: [[-1,-1,2],[-1,0,1]]\n",
        "def threeSum(nums):\n",
        "    \"\"\"\n",
        "    :type nums: List[int]\n",
        "    :rtype: List[List[int]]\n",
        "    \"\"\"\n",
        "    result = []\n",
        "    nums.sort()\n",
        "    for i in range(len(nums)):\n",
        "        current_element = nums[i]\n",
        "        if i > 0 and nums[i] == nums[i-1]:\n",
        "            continue\n",
        "        left = i + 1\n",
        "        right = len(nums) - 1\n",
        "\n",
        "        while left < right:\n",
        "            target_sum = current_element + nums[left] + nums[right]\n",
        "            #print(i, left, target_sum)\n",
        "            if target_sum == 0:\n",
        "                result.append([current_element,nums[left],nums[right]])\n",
        "                left += 1\n",
        "                while left < right and nums[left] == nums[left-1]:\n",
        "                    left += 1\n",
        "            elif target_sum > 0:\n",
        "                right -= 1\n",
        "            else:\n",
        "                left += 1\n",
        "    return result\n",
        "\n",
        "threeSum(nums)"
      ],
      "metadata": {
        "colab": {
          "base_uri": "https://localhost:8080/"
        },
        "id": "Bfb2boAl5-W_",
        "outputId": "39891b5f-dd60-47f4-9975-3dfa1d5d31b8"
      },
      "execution_count": 15,
      "outputs": [
        {
          "output_type": "execute_result",
          "data": {
            "text/plain": [
              "[[-1, -1, 2], [-1, 0, 1]]"
            ]
          },
          "metadata": {},
          "execution_count": 15
        }
      ]
    }
  ]
}