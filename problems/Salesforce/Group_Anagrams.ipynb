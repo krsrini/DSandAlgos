{
  "nbformat": 4,
  "nbformat_minor": 0,
  "metadata": {
    "colab": {
      "provenance": [],
      "authorship_tag": "ABX9TyNKGV8uqa7fYAJREMJn4sjG",
      "include_colab_link": true
    },
    "kernelspec": {
      "name": "python3",
      "display_name": "Python 3"
    },
    "language_info": {
      "name": "python"
    }
  },
  "cells": [
    {
      "cell_type": "markdown",
      "metadata": {
        "id": "view-in-github",
        "colab_type": "text"
      },
      "source": [
        "<a href=\"https://colab.research.google.com/github/krsrini/DSandAlgos/blob/main/Group_Anagrams.ipynb\" target=\"_parent\"><img src=\"https://colab.research.google.com/assets/colab-badge.svg\" alt=\"Open In Colab\"/></a>"
      ]
    },
    {
      "cell_type": "code",
      "execution_count": 41,
      "metadata": {
        "colab": {
          "base_uri": "https://localhost:8080/"
        },
        "id": "Bq1rpvVoiXcP",
        "outputId": "1c628ded-86a7-4b26-b260-38f8b1a34218"
      },
      "outputs": [
        {
          "output_type": "stream",
          "name": "stdout",
          "text": [
            "[['eat', 'tea', 'ate'], ['tan', 'nat'], ['bat']]\n"
          ]
        }
      ],
      "source": [
        "strs = [\"eat\",\"tea\",\"tan\",\"ate\",\"nat\",\"bat\"]\n",
        "from collections import defaultdict\n",
        "ans = defaultdict(list)\n",
        "for s in strs:\n",
        "  count = [0] * 26\n",
        "  for c in s:\n",
        "    count[ord(c) - ord(\"a\")] += 1\n",
        "  ans[tuple(count)].append(s)\n",
        "print(list(ans.values()))\n"
      ]
    }
  ]
}