{
  "nbformat": 4,
  "nbformat_minor": 0,
  "metadata": {
    "colab": {
      "provenance": [],
      "authorship_tag": "ABX9TyMup3n+IrrzKvkAe5UYVOqG",
      "include_colab_link": true
    },
    "kernelspec": {
      "name": "python3",
      "display_name": "Python 3"
    },
    "language_info": {
      "name": "python"
    }
  },
  "cells": [
    {
      "cell_type": "markdown",
      "metadata": {
        "id": "view-in-github",
        "colab_type": "text"
      },
      "source": [
        "<a href=\"https://colab.research.google.com/github/krsrini/DSandAlgos/blob/main/1143_Longest_Common_Subsequence.ipynb\" target=\"_parent\"><img src=\"https://colab.research.google.com/assets/colab-badge.svg\" alt=\"Open In Colab\"/></a>"
      ]
    },
    {
      "cell_type": "code",
      "execution_count": null,
      "metadata": {
        "id": "JvXjypW4mdfS"
      },
      "outputs": [],
      "source": [
        "'''\n",
        "Given two strings text1 and text2, return the length of their longest common subsequence. If there is no common subsequence, return 0.\n",
        "\n",
        "A subsequence of a string is a new string generated from the original string with some characters (can be none) deleted without changing the relative order of the remaining characters.\n",
        "\n",
        "For example, \"ace\" is a subsequence of \"abcde\".\n",
        "A common subsequence of two strings is a subsequence that is common to both strings.\n",
        "\n",
        "\n",
        "\n",
        "Example 1:\n",
        "\n",
        "Input: text1 = \"abcde\", text2 = \"ace\"\n",
        "Output: 3\n",
        "Explanation: The longest common subsequence is \"ace\" and its length is 3.\n",
        "Example 2:\n",
        "\n",
        "Input: text1 = \"abc\", text2 = \"abc\"\n",
        "Output: 3\n",
        "Explanation: The longest common subsequence is \"abc\" and its length is 3.\n",
        "Example 3:\n",
        "\n",
        "Input: text1 = \"abc\", text2 = \"def\"\n",
        "Output: 0\n",
        "Explanation: There is no such common subsequence, so the result is 0.\n",
        "\n",
        "\n",
        "Constraints:\n",
        "\n",
        "1 <= text1.length, text2.length <= 1000\n",
        "text1 and text2 consist of only lowercase English characters.\n",
        "'''"
      ]
    },
    {
      "cell_type": "code",
      "source": [
        "text1 = \"abcde\"\n",
        "text2 = \"ace\"\n",
        "dp = [[0 for j in range(len(text2) + 1)] for i in range(len(text1) + 1)]\n",
        "\n",
        "dp"
      ],
      "metadata": {
        "colab": {
          "base_uri": "https://localhost:8080/"
        },
        "id": "NAdtmfrAmk8C",
        "outputId": "3daf6fc2-5cd9-4d4a-cd4c-4418139f9646"
      },
      "execution_count": null,
      "outputs": [
        {
          "output_type": "execute_result",
          "data": {
            "text/plain": [
              "[[0, 0, 0, 0],\n",
              " [0, 0, 0, 0],\n",
              " [0, 0, 0, 0],\n",
              " [0, 0, 0, 0],\n",
              " [0, 0, 0, 0],\n",
              " [0, 0, 0, 0]]"
            ]
          },
          "metadata": {},
          "execution_count": 10
        }
      ]
    },
    {
      "cell_type": "code",
      "source": [
        "for i in range(len(text1) -1 , -1, -1):\n",
        "    for j in range(len(text2) -1 , -1, -1 ):\n",
        "        dp[i][j]\n",
        "        if text1[i] == text2[j]:\n",
        "            dp[i][j] = 1 + dp[i+1][j+1]\n",
        "        else:\n",
        "            dp[i][j] = max(dp[i][j+1], dp[i+1][j])\n",
        "print(dp)\n",
        "print(dp[0][0])"
      ],
      "metadata": {
        "colab": {
          "base_uri": "https://localhost:8080/"
        },
        "id": "JYAfVBVOoUYx",
        "outputId": "4079ec4b-b317-4c0f-8bae-0ab94afd6ead"
      },
      "execution_count": null,
      "outputs": [
        {
          "output_type": "stream",
          "name": "stdout",
          "text": [
            "[[3, 2, 1, 0], [2, 2, 1, 0], [2, 2, 1, 0], [1, 1, 1, 0], [1, 1, 1, 0], [0, 0, 0, 0]]\n",
            "3\n"
          ]
        }
      ]
    },
    {
      "cell_type": "code",
      "source": [
        "text1 = \"abcde\"\n",
        "text2 = \"ace\"\n",
        "\n",
        "'''\n",
        "text1 = \"abc\"\n",
        "text2 = \"abc\"\n",
        "\n",
        "text1 = \"abc\"\n",
        "text2 = \"def\"\n",
        "'''\n",
        "\n",
        "def longestCommonSubsequence(text1, text2):\n",
        "    dp = [[0 for i in range(len(text2) +1 )] for i in range(len(text1) + 1)]\n",
        "    for i in range(len(text1) -1, -1, -1):\n",
        "        for j in range(len(text2) -1, -1, -1):\n",
        "            if text1[i] == text2[j]:\n",
        "                dp[i][j] = 1 + dp[i + 1][j + 1]\n",
        "            else:\n",
        "                dp[i][j] = max(dp[i+1][j], dp[i][j+1])\n",
        "    return dp[0][0]\n",
        "longestCommonSubsequence(text1, text2)\n",
        "#dp"
      ],
      "metadata": {
        "colab": {
          "base_uri": "https://localhost:8080/"
        },
        "id": "GJhX2tt8sIHz",
        "outputId": "f05df01c-0ee9-45b3-ce2f-3f362d510fb6"
      },
      "execution_count": null,
      "outputs": [
        {
          "output_type": "execute_result",
          "data": {
            "text/plain": [
              "3"
            ]
          },
          "metadata": {},
          "execution_count": 20
        }
      ]
    }
  ]
}