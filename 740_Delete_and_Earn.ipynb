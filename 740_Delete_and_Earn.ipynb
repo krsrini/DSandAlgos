{
  "nbformat": 4,
  "nbformat_minor": 0,
  "metadata": {
    "colab": {
      "provenance": [],
      "authorship_tag": "ABX9TyOlQ3wvGff9Yfw/Plt5LLcF",
      "include_colab_link": true
    },
    "kernelspec": {
      "name": "python3",
      "display_name": "Python 3"
    },
    "language_info": {
      "name": "python"
    }
  },
  "cells": [
    {
      "cell_type": "markdown",
      "metadata": {
        "id": "view-in-github",
        "colab_type": "text"
      },
      "source": [
        "<a href=\"https://colab.research.google.com/github/krsrini/DSandAlgos/blob/main/740_Delete_and_Earn.ipynb\" target=\"_parent\"><img src=\"https://colab.research.google.com/assets/colab-badge.svg\" alt=\"Open In Colab\"/></a>"
      ]
    },
    {
      "cell_type": "code",
      "execution_count": null,
      "metadata": {
        "id": "q1qIr95wmkED"
      },
      "outputs": [],
      "source": [
        "'''\n",
        "You are given an integer array nums. You want to maximize the number of points you get by performing the following operation any number of times:\n",
        "\n",
        "Pick any nums[i] and delete it to earn nums[i] points. Afterwards, you must delete every element equal to nums[i] - 1 and every element equal to nums[i] + 1.\n",
        "Return the maximum number of points you can earn by applying the above operation some number of times.\n",
        "\n",
        "\n",
        "\n",
        "Example 1:\n",
        "\n",
        "Input: nums = [3,4,2]\n",
        "Output: 6\n",
        "Explanation: You can perform the following operations:\n",
        "- Delete 4 to earn 4 points. Consequently, 3 is also deleted. nums = [2].\n",
        "- Delete 2 to earn 2 points. nums = [].\n",
        "You earn a total of 6 points.\n",
        "Example 2:\n",
        "\n",
        "Input: nums = [2,2,3,3,3,4]\n",
        "Output: 9\n",
        "Explanation: You can perform the following operations:\n",
        "- Delete a 3 to earn 3 points. All 2's and 4's are also deleted. nums = [3,3].\n",
        "- Delete a 3 again to earn 3 points. nums = [3].\n",
        "- Delete a 3 once more to earn 3 points. nums = [].\n",
        "You earn a total of 9 points.\n",
        "\n",
        "\n",
        "Constraints:\n",
        "\n",
        "1 <= nums.length <= 2 * 104\n",
        "1 <= nums[i] <= 104\n",
        "'''"
      ]
    },
    {
      "cell_type": "code",
      "source": [
        "nums = [3,4,2]\n",
        "#nums = [2,2,3,3,3,4]\n",
        "#nums = [1,1,1,2,4,5,5,5,6]\n",
        "\n",
        "def deleteAndEarn(nums):\n",
        "    nums_count = dict()\n",
        "    for num in nums:\n",
        "        nums_count[num] = nums_count.get(num, 0) + 1\n",
        "\n",
        "    max_point = max(nums)\n",
        "    points = [0] * (max_point + 1)\n",
        "    for num in nums_count:\n",
        "        points[num] = num * nums_count[num]\n",
        "\n",
        "    prev2, prev1 = 0, points[1]\n",
        "    for i in range(2, max_point + 1):\n",
        "        curr = max(prev1, prev2 + points[i])\n",
        "        prev2, prev1 = prev1, curr\n",
        "\n",
        "    return prev1\n",
        "\n",
        "deleteAndEarn(nums)"
      ],
      "metadata": {
        "colab": {
          "base_uri": "https://localhost:8080/"
        },
        "id": "_8mWCmJh5GQ4",
        "outputId": "f153116c-59d3-4e28-f880-6f8a7f29809b"
      },
      "execution_count": 43,
      "outputs": [
        {
          "output_type": "execute_result",
          "data": {
            "text/plain": [
              "6"
            ]
          },
          "metadata": {},
          "execution_count": 43
        }
      ]
    }
  ]
}