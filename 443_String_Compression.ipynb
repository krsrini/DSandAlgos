{
  "nbformat": 4,
  "nbformat_minor": 0,
  "metadata": {
    "colab": {
      "provenance": [],
      "authorship_tag": "ABX9TyO9B9Oc4ZbFlJIwrIiHb7OH",
      "include_colab_link": true
    },
    "kernelspec": {
      "name": "python3",
      "display_name": "Python 3"
    },
    "language_info": {
      "name": "python"
    }
  },
  "cells": [
    {
      "cell_type": "markdown",
      "metadata": {
        "id": "view-in-github",
        "colab_type": "text"
      },
      "source": [
        "<a href=\"https://colab.research.google.com/github/krsrini/DSandAlgos/blob/main/443_String_Compression.ipynb\" target=\"_parent\"><img src=\"https://colab.research.google.com/assets/colab-badge.svg\" alt=\"Open In Colab\"/></a>"
      ]
    },
    {
      "cell_type": "code",
      "execution_count": null,
      "metadata": {
        "id": "TQwIp10yCJA5"
      },
      "outputs": [],
      "source": [
        "'''\n",
        "443. String Compression\n",
        "Given an array of characters chars, compress it using the following algorithm:\n",
        "\n",
        "Begin with an empty string s. For each group of consecutive repeating characters in chars:\n",
        "\n",
        "If the group's length is 1, append the character to s.\n",
        "Otherwise, append the character followed by the group's length.\n",
        "The compressed string s should not be returned separately, but instead, be stored in the input character array chars. Note that group lengths that are 10 or longer will be split into multiple characters in chars.\n",
        "\n",
        "After you are done modifying the input array, return the new length of the array.\n",
        "\n",
        "You must write an algorithm that uses only constant extra space.\n",
        "\n",
        "\n",
        "\n",
        "Example 1:\n",
        "\n",
        "Input: chars = [\"a\",\"a\",\"b\",\"b\",\"c\",\"c\",\"c\"]\n",
        "Output: Return 6, and the first 6 characters of the input array should be: [\"a\",\"2\",\"b\",\"2\",\"c\",\"3\"]\n",
        "Explanation: The groups are \"aa\", \"bb\", and \"ccc\". This compresses to \"a2b2c3\".\n",
        "Example 2:\n",
        "\n",
        "Input: chars = [\"a\"]\n",
        "Output: Return 1, and the first character of the input array should be: [\"a\"]\n",
        "Explanation: The only group is \"a\", which remains uncompressed since it's a single character.\n",
        "Example 3:\n",
        "\n",
        "Input: chars = [\"a\",\"b\",\"b\",\"b\",\"b\",\"b\",\"b\",\"b\",\"b\",\"b\",\"b\",\"b\",\"b\"]\n",
        "Output: Return 4, and the first 4 characters of the input array should be: [\"a\",\"b\",\"1\",\"2\"].\n",
        "Explanation: The groups are \"a\" and \"bbbbbbbbbbbb\". This compresses to \"ab12\".\n",
        "\n",
        "\n",
        "Constraints:\n",
        "\n",
        "1 <= chars.length <= 2000\n",
        "chars[i] is a lowercase English letter, uppercase English letter, digit, or symbol.\n",
        "'''"
      ]
    },
    {
      "cell_type": "code",
      "source": [
        "#Brute force\n",
        "#chars = [\"a\",\"a\",\"b\",\"b\",\"c\",\"c\",\"c\"]\n",
        "#chars = [\"a\",\"b\",\"b\",\"b\",\"b\",\"b\",\"b\",\"b\",\"b\",\"b\",\"b\",\"b\",\"b\"]\n",
        "#chars = [\"a\"]\n",
        "chars = [\"a\",\"b\",\"c\"]\n",
        "\n",
        "def compress(chars):\n",
        "  s = \"\"\n",
        "  lenChar = len(chars)\n",
        "  char_counter = 1\n",
        "  running_counter = 0\n",
        "  if lenChar == 1:\n",
        "    return len(chars[0])\n",
        "\n",
        "  while running_counter < lenChar and lenChar > 1:\n",
        "    if running_counter+1 < lenChar:\n",
        "      if chars[running_counter] == chars[running_counter+1]:\n",
        "        char_counter +=1\n",
        "      else:\n",
        "        s = s+(chars[running_counter])\n",
        "        if char_counter > 1:\n",
        "          s = s+(str(char_counter))\n",
        "        char_counter = 1\n",
        "    else:\n",
        "      s = s+(chars[running_counter])\n",
        "      if char_counter > 1:\n",
        "        s = s+(str(char_counter))\n",
        "    running_counter += 1\n",
        "  chars[0:lenChar] = list(s)\n",
        "  return len(s)\n",
        "\n",
        "\n",
        "print(compress(chars), chars)\n"
      ],
      "metadata": {
        "colab": {
          "base_uri": "https://localhost:8080/"
        },
        "id": "kavFcTU-CTCI",
        "outputId": "76c1599d-6a6b-4d12-a1f8-228a1eb93fe0"
      },
      "execution_count": 39,
      "outputs": [
        {
          "output_type": "stream",
          "name": "stdout",
          "text": [
            "3 ['a', 'b', 'c']\n"
          ]
        }
      ]
    },
    {
      "cell_type": "code",
      "source": [
        "#Optimal\n",
        "chars = [\"a\",\"a\",\"b\",\"b\",\"c\",\"c\",\"c\"]\n",
        "#chars = [\"a\",\"b\",\"b\",\"b\",\"b\",\"b\",\"b\",\"b\",\"b\",\"b\",\"b\",\"b\",\"b\"]\n",
        "#chars = [\"a\"]\n",
        "#chars = [\"a\",\"b\",\"c\"]\n",
        "\n",
        "def compress(chars):\n",
        "    charLen = len(chars)\n",
        "    read = 0\n",
        "    write = 0\n",
        "    while read < charLen:\n",
        "      count = 0\n",
        "      char = chars[read]\n",
        "      while read < charLen and char == chars[read]:\n",
        "        read += 1\n",
        "        count += 1\n",
        "      chars[write] = char\n",
        "      write += 1\n",
        "\n",
        "      if count > 1:\n",
        "        for c in str(count):\n",
        "          chars[write] = c\n",
        "          write += 1\n",
        "    del chars[write:]\n",
        "    return write\n",
        "\n",
        "print(compress(chars), chars)"
      ],
      "metadata": {
        "colab": {
          "base_uri": "https://localhost:8080/"
        },
        "collapsed": true,
        "id": "7EZWi7uXL3fv",
        "outputId": "053e895b-77a3-4879-fdc6-ef44f68f3116"
      },
      "execution_count": 71,
      "outputs": [
        {
          "output_type": "stream",
          "name": "stdout",
          "text": [
            "6 ['a', '2', 'b', '2', 'c', '3']\n"
          ]
        }
      ]
    }
  ]
}