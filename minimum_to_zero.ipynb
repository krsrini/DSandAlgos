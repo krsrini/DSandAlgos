{
  "nbformat": 4,
  "nbformat_minor": 0,
  "metadata": {
    "colab": {
      "provenance": [],
      "authorship_tag": "ABX9TyMMaX2Vjief1MdPaFWSd7ix",
      "include_colab_link": true
    },
    "kernelspec": {
      "name": "python3",
      "display_name": "Python 3"
    },
    "language_info": {
      "name": "python"
    }
  },
  "cells": [
    {
      "cell_type": "markdown",
      "metadata": {
        "id": "view-in-github",
        "colab_type": "text"
      },
      "source": [
        "<a href=\"https://colab.research.google.com/github/krsrini/DSandAlgos/blob/main/minimum_to_zero.ipynb\" target=\"_parent\"><img src=\"https://colab.research.google.com/assets/colab-badge.svg\" alt=\"Open In Colab\"/></a>"
      ]
    },
    {
      "cell_type": "code",
      "source": [
        "n = 39\n",
        "def min_operations_to_reduce_to_zero(n):\n",
        "    ops = 0\n",
        "    while n > 0:\n",
        "      if n % 2 == 0:\n",
        "        n >>= 1\n",
        "      elif (n & 2) > 0:\n",
        "        n += 1\n",
        "        ops +=1\n",
        "      else:\n",
        "        ops += 1\n",
        "        n >>= 2\n",
        "\n",
        "    return ops\n",
        "print(min_operations_to_reduce_to_zero(n))"
      ],
      "metadata": {
        "colab": {
          "base_uri": "https://localhost:8080/"
        },
        "id": "Z_EzUeKC_Erp",
        "outputId": "07de0bfc-9259-4191-9130-36a56e87e98b"
      },
      "execution_count": 1,
      "outputs": [
        {
          "output_type": "stream",
          "name": "stdout",
          "text": [
            "3\n"
          ]
        }
      ]
    }
  ]
}